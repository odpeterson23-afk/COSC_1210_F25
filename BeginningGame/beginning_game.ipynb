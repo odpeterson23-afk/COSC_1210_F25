{
 "cells": [
  {
   "cell_type": "code",
   "execution_count": 1,
   "id": "ed04c240",
   "metadata": {},
   "outputs": [
    {
     "name": "stdout",
     "output_type": "stream",
     "text": [
      "pygame 2.6.1 (SDL 2.28.4, Python 3.13.7)\n",
      "Hello from the pygame community. https://www.pygame.org/contribute.html\n"
     ]
    }
   ],
   "source": [
    "import pygame\n",
    "import config\n",
    "from adventure_functions import (\n",
    "    draw_room, is_blocked, draw_obstacle, draw_player, load_player_image\n",
    ")\n",
    "\n",
    "def main():\n",
    "    pygame.init()\n",
    "    screen = pygame.display.set_mode((config.WIDTH, config.HEIGHT))\n",
    "    pygame.display.set_caption(\"3x3 Adventure Grid\")\n",
    "    clock = pygame.time.Clock()\n",
    "\n",
    "    # Load the sprite ONCE\n",
    "    load_player_image()\n",
    "\n",
    "    player_x = config.WIDTH // 2\n",
    "    player_y = config.HEIGHT // 2\n",
    "\n",
    "    running = True\n",
    "    while running:\n",
    "        dt = clock.tick(config.FPS) / 1000.0\n",
    "\n",
    "        for event in pygame.event.get():\n",
    "            if event.type == pygame.QUIT:\n",
    "                running = False\n",
    "\n",
    "        # Input\n",
    "        keys = pygame.key.get_pressed()\n",
    "        dx = dy = 0\n",
    "        if keys[pygame.K_LEFT] or keys[pygame.K_a]: dx = -1\n",
    "        if keys[pygame.K_RIGHT] or keys[pygame.K_d]: dx = 1\n",
    "        if keys[pygame.K_UP] or keys[pygame.K_w]: dy = -1\n",
    "        if keys[pygame.K_DOWN] or keys[pygame.K_s]: dy = 1\n",
    "        if dx != 0 and dy != 0:\n",
    "            dx *= 0.7071\n",
    "            dy *= 0.7071\n",
    "\n",
    "        new_x = player_x + dx * config.PLAYER_SPEED * dt\n",
    "        new_y = player_y + dy * config.PLAYER_SPEED * dt\n",
    "\n",
    "        # Movement with collision\n",
    "        if not is_blocked(new_x, new_y):\n",
    "            player_x, player_y = new_x, new_y\n",
    "\n",
    "        # Draw everything\n",
    "        screen.fill(config.BG_COLOR)\n",
    "\n",
    "        # Rooms/walls first\n",
    "        for row in range(config.GRID_ROWS):\n",
    "            for col in range(config.GRID_COLS):\n",
    "                draw_room(screen, row, col)\n",
    "\n",
    "        # Any extra decor/obstacles\n",
    "        draw_obstacle(screen)\n",
    "\n",
    "        # Then the player\n",
    "        draw_player(screen, player_x, player_y)\n",
    "\n",
    "        pygame.display.flip()\n",
    "\n",
    "    pygame.quit()\n",
    "\n",
    "if __name__ == \"__main__\":\n",
    "    main()\n"
   ]
  },
  {
   "cell_type": "code",
   "execution_count": null,
   "id": "a4a2a76f",
   "metadata": {},
   "outputs": [],
   "source": []
  }
 ],
 "metadata": {
  "kernelspec": {
   "display_name": "Python 3",
   "language": "python",
   "name": "python3"
  },
  "language_info": {
   "codemirror_mode": {
    "name": "ipython",
    "version": 3
   },
   "file_extension": ".py",
   "mimetype": "text/x-python",
   "name": "python",
   "nbconvert_exporter": "python",
   "pygments_lexer": "ipython3",
   "version": "3.13.7"
  }
 },
 "nbformat": 4,
 "nbformat_minor": 5
}
